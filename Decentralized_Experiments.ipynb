{
 "cells": [
  {
   "cell_type": "code",
   "execution_count": 34,
   "metadata": {},
   "outputs": [],
   "source": [
    "import numpy as np\n",
    "import scipy.linalg as sla\n",
    "import matplotlib.pyplot as plt\n",
    "from numpy import linalg as LA"
   ]
  },
  {
   "cell_type": "code",
   "execution_count": 2,
   "metadata": {},
   "outputs": [],
   "source": [
    "def W_i(k):\n",
    "    low = np.zeros((k, k))\n",
    "    for i in range(k):\n",
    "        if i == 0 or i == k - 1:\n",
    "            low[i][i] = k + 1\n",
    "        else:\n",
    "            low[i][i] = k\n",
    "    return low - np.ones((k, k))\n"
   ]
  },
  {
   "cell_type": "code",
   "execution_count": 3,
   "metadata": {},
   "outputs": [
    {
     "data": {
      "text/plain": [
       "array([[ 3., -1., -1.],\n",
       "       [-1.,  2., -1.],\n",
       "       [-1., -1.,  3.]])"
      ]
     },
     "execution_count": 3,
     "metadata": {},
     "output_type": "execute_result"
    }
   ],
   "source": [
    "W_i(3)"
   ]
  },
  {
   "cell_type": "code",
   "execution_count": 4,
   "metadata": {},
   "outputs": [],
   "source": [
    "def W_old(k, n):\n",
    "    matr = np.kron(np.eye(n), W_i(k))\n",
    "    for j in range(n):\n",
    "        matr[j * k - 1][j * k] = -1\n",
    "        matr[j * k][j * k - 1] = -1\n",
    "    return matr"
   ]
  },
  {
   "cell_type": "code",
   "execution_count": 5,
   "metadata": {},
   "outputs": [
    {
     "data": {
      "text/plain": [
       "array([[ 3., -1., -1.,  0., -0., -0.,  0., -0., -1.],\n",
       "       [-1.,  2., -1., -0.,  0., -0., -0.,  0., -0.],\n",
       "       [-1., -1.,  3., -1., -0.,  0., -0., -0.,  0.],\n",
       "       [ 0., -0., -1.,  3., -1., -1.,  0., -0., -0.],\n",
       "       [-0.,  0., -0., -1.,  2., -1., -0.,  0., -0.],\n",
       "       [-0., -0.,  0., -1., -1.,  3., -1., -0.,  0.],\n",
       "       [ 0., -0., -0.,  0., -0., -1.,  3., -1., -1.],\n",
       "       [-0.,  0., -0., -0.,  0., -0., -1.,  2., -1.],\n",
       "       [-1., -0.,  0., -0., -0.,  0., -1., -1.,  3.]])"
      ]
     },
     "execution_count": 5,
     "metadata": {},
     "output_type": "execute_result"
    }
   ],
   "source": [
    "W_old(3,3)"
   ]
  },
  {
   "cell_type": "code",
   "execution_count": 6,
   "metadata": {},
   "outputs": [],
   "source": [
    "def W_new(k,n):\n",
    "    matr = np.kron(W_i(k),np.eye(n))\n",
    "    return matr"
   ]
  },
  {
   "cell_type": "code",
   "execution_count": 7,
   "metadata": {},
   "outputs": [
    {
     "data": {
      "text/plain": [
       "array([[ 4.,  0.,  0., -1., -0., -0., -1., -0., -0., -1., -0., -0.],\n",
       "       [ 0.,  4.,  0., -0., -1., -0., -0., -1., -0., -0., -1., -0.],\n",
       "       [ 0.,  0.,  4., -0., -0., -1., -0., -0., -1., -0., -0., -1.],\n",
       "       [-1., -0., -0.,  3.,  0.,  0., -1., -0., -0., -1., -0., -0.],\n",
       "       [-0., -1., -0.,  0.,  3.,  0., -0., -1., -0., -0., -1., -0.],\n",
       "       [-0., -0., -1.,  0.,  0.,  3., -0., -0., -1., -0., -0., -1.],\n",
       "       [-1., -0., -0., -1., -0., -0.,  3.,  0.,  0., -1., -0., -0.],\n",
       "       [-0., -1., -0., -0., -1., -0.,  0.,  3.,  0., -0., -1., -0.],\n",
       "       [-0., -0., -1., -0., -0., -1.,  0.,  0.,  3., -0., -0., -1.],\n",
       "       [-1., -0., -0., -1., -0., -0., -1., -0., -0.,  4.,  0.,  0.],\n",
       "       [-0., -1., -0., -0., -1., -0., -0., -1., -0.,  0.,  4.,  0.],\n",
       "       [-0., -0., -1., -0., -0., -1., -0., -0., -1.,  0.,  0.,  4.]])"
      ]
     },
     "execution_count": 7,
     "metadata": {},
     "output_type": "execute_result"
    }
   ],
   "source": [
    "W_new(4,3)"
   ]
  },
  {
   "cell_type": "code",
   "execution_count": null,
   "metadata": {},
   "outputs": [],
   "source": []
  },
  {
   "cell_type": "code",
   "execution_count": 8,
   "metadata": {},
   "outputs": [],
   "source": [
    "def cond_num(m):\n",
    "    v = sla.svd(m)\n",
    "    return v[1][0]/v[1][-2]"
   ]
  },
  {
   "cell_type": "code",
   "execution_count": null,
   "metadata": {
    "scrolled": true
   },
   "outputs": [],
   "source": [
    "%timeit arr = star_laplacian(10000)"
   ]
  },
  {
   "cell_type": "code",
   "execution_count": 37,
   "metadata": {},
   "outputs": [],
   "source": [
    "def A(d1,d2, setnodes):\n",
    "    #setnodes - множество значений переменных, от которых есть зависимость\n",
    "    #то есть зависит от x1,x2 - setnodes = {1,2}\n",
    "    A = np.random.rand(d1,d2)\n",
    "    for i in setnodes:\n",
    "        A[:,i] = 0\n",
    "    return A\n",
    "def b(d1):\n",
    "    return np.random.rand(d1,1)\n",
    "def f(A,b):\n",
    "    return 0.5*LA.norm(A.dot(x) - b)**2"
   ]
  },
  {
   "cell_type": "code",
   "execution_count": 38,
   "metadata": {},
   "outputs": [
    {
     "name": "stdout",
     "output_type": "stream",
     "text": [
      "0.9412283382139881\n"
     ]
    }
   ],
   "source": [
    "x = np.random.rand(4,1) #у x размерность d2\n",
    "print(f(A(3,4,{0,1}), b(3))) #тестовый пример подсчета функции"
   ]
  },
  {
   "cell_type": "code",
   "execution_count": 41,
   "metadata": {},
   "outputs": [],
   "source": [
    "#минимизировать f(x) при ограничениях Wx = 0 для новой и старой W\n",
    "def decentralized_gd(f,W):\n",
    "    pass"
   ]
  },
  {
   "cell_type": "code",
   "execution_count": null,
   "metadata": {},
   "outputs": [],
   "source": []
  }
 ],
 "metadata": {
  "kernelspec": {
   "display_name": "Python 3",
   "language": "python",
   "name": "python3"
  },
  "language_info": {
   "codemirror_mode": {
    "name": "ipython",
    "version": 3
   },
   "file_extension": ".py",
   "mimetype": "text/x-python",
   "name": "python",
   "nbconvert_exporter": "python",
   "pygments_lexer": "ipython3",
   "version": "3.8.3"
  }
 },
 "nbformat": 4,
 "nbformat_minor": 4
}
